{
 "cells": [
  {
   "cell_type": "code",
   "execution_count": 1,
   "id": "39e91c8e",
   "metadata": {},
   "outputs": [],
   "source": [
    " import hashlib\n",
    " import datetime\n",
    " import random"
   ]
  },
  {
   "cell_type": "code",
   "execution_count": 2,
   "id": "f7701567",
   "metadata": {},
   "outputs": [],
   "source": [
    "from datetime import datetime"
   ]
  },
  {
   "cell_type": "code",
   "execution_count": 3,
   "id": "604e93d8",
   "metadata": {},
   "outputs": [],
   "source": [
    "class MerkleTree:\n",
    "    @staticmethod\n",
    "    def get_merkle_root(transactions):\n",
    "        if not transactions:\n",
    "            return hashlib.sha256(\"\".encode()).hexdigest()\n",
    "        \n",
    "        # Ensure the number of transactions is a power of 2\n",
    "        while not (len(transactions) & (len(transactions) - 1) == 0):\n",
    "            transactions.append(\"\")\n",
    "        \n",
    "        # Convert transactions to strings and hash them\n",
    "        leafs = [hashlib.sha256(str(tx).encode()).hexdigest() for tx in transactions]\n",
    "        \n",
    "        # Build the Merkle tree\n",
    "        while len(leafs) > 1:\n",
    "            next_level = []\n",
    "            for i in range(0, len(leafs), 2):\n",
    "                combined_hash = hashlib.sha256((leafs[i] + leafs[i + 1]).encode()).hexdigest()\n",
    "                next_level.append(combined_hash)\n",
    "            leafs = next_level\n",
    "        \n",
    "        # The last remaining hash is the Merkle root\n",
    "        return leafs[0]\n"
   ]
  },
  {
   "cell_type": "code",
   "execution_count": 4,
   "id": "895a9556",
   "metadata": {},
   "outputs": [],
   "source": [
    "class Block:\n",
    "    def __init__(self, index, transactions, previous_hash):\n",
    "        self.index = index\n",
    "        self.timestamp = datetime.now()\n",
    "        self.transactions = transactions\n",
    "        self.previous_hash = previous_hash\n",
    "        self.nonce = 0\n",
    "        self.merkle_root = MerkleTree.get_merkle_root(transactions)\n",
    "        self.hash = self.create_hash()\n",
    "\n",
    "    def create_hash(self):\n",
    "        block_data = f\"{self.index}{self.timestamp}{self.merkle_root}{self.previous_hash}{self.nonce}\"\n",
    "        return hashlib.sha256(block_data.encode()).hexdigest()\n",
    "\n",
    "    def mine_block(self, difficulty):\n",
    "        mining = True  # Flag for the mining loop\n",
    "        target = \"0\" * difficulty  # Target string with leading zeros\n",
    "        while mining:\n",
    "            # Calculate hash with the current nonce\n",
    "            self.hash = self.create_hash()\n",
    "            # Check if the hash meets the difficulty requirement\n",
    "            if self.hash[:difficulty] == target:\n",
    "                mining = False  # Mining successful\n",
    "                print('MINED with hash:', self.hash)\n",
    "            else:\n",
    "                self.nonce += 1"
   ]
  },
  {
   "cell_type": "code",
   "execution_count": 5,
   "id": "5d686717",
   "metadata": {},
   "outputs": [],
   "source": [
    "class VotesBlockchain:\n",
    "    def __init__(self, difficulty=4, max_transactions=4):\n",
    "        self.chain = [self.create_genesis_block()]\n",
    "        self.pending_transactions = []\n",
    "        self.difficulty = difficulty\n",
    "        self.max_transactions = max_transactions\n",
    "\n",
    "    def create_genesis_block(self):\n",
    "        return Block(0, [\"Genesis Block\"], \"0\")\n",
    "\n",
    "    def get_latest_block(self):\n",
    "        return self.chain[-1]\n",
    "\n",
    "    def add_transaction(self, voter_name, candidate_name):\n",
    "        \"\"\"\n",
    "        Add a single transaction.\n",
    "        \"\"\"\n",
    "        transaction = (voter_name, candidate_name)\n",
    "        if len(self.pending_transactions) >= self.max_transactions:\n",
    "            print(\"Transaction pool is full! Please mine a block.\")\n",
    "        else:\n",
    "            self.pending_transactions.append(transaction)\n",
    "\n",
    "    def add_transactions(self, transactions):\n",
    "        \"\"\"\n",
    "        Add multiple transactions as a list.\n",
    "        \"\"\"\n",
    "        for voter_name, candidate_name in transactions:\n",
    "            self.add_transaction(voter_name, candidate_name)\n",
    "\n",
    "    def mine_pending_transactions(self):\n",
    "        \"\"\"\n",
    "        Mine transactions in chunks, limited by max_transactions.\n",
    "        \"\"\"\n",
    "        if len(self.pending_transactions) == 0:\n",
    "            print(\"No transactions to mine.\")\n",
    "            return\n",
    "\n",
    "        transactions_to_mine = self.pending_transactions[:self.max_transactions]\n",
    "        new_block = Block(\n",
    "            index=len(self.chain),\n",
    "            transactions=transactions_to_mine,\n",
    "            previous_hash=self.get_latest_block().hash\n",
    "        )\n",
    "        new_block.mine_block(self.difficulty)\n",
    "        self.chain.append(new_block)\n",
    "        self.pending_transactions = self.pending_transactions[self.max_transactions:]\n",
    "\n",
    "    def is_chain_valid(self):\n",
    "        \"\"\"\n",
    "        Validate the integrity of the blockchain.\n",
    "        \"\"\"\n",
    "        previous_block_hash = \"0\"\n",
    "        for i in range(len(self.chain)):\n",
    "            current_block = self.chain[i]\n",
    "            print(f\"This block hash: {current_block.hash}\")\n",
    "            if previous_block_hash != \"0\":\n",
    "                print(f\"Saved previous hash: {current_block.previous_hash}\")\n",
    "                is_valid = previous_block_hash == current_block.previous_hash\n",
    "                print(f\"Was not tampered with: {is_valid}\")\n",
    "                if not is_valid:\n",
    "                    return False\n",
    "            previous_block_hash = current_block.hash\n",
    "            print(\"MOVING TO THE NEXT -----------------------------------------------------------\")\n",
    "\n",
    "        return True"
   ]
  },
  {
   "cell_type": "code",
   "execution_count": 6,
   "id": "67d1c269",
   "metadata": {},
   "outputs": [],
   "source": [
    "my_blockchain = VotesBlockchain()"
   ]
  },
  {
   "cell_type": "code",
   "execution_count": 7,
   "id": "11d5fa88",
   "metadata": {},
   "outputs": [],
   "source": [
    "transactions = [\n",
    "    ('Alice Brown', 'Candidate A'),\n",
    "    ('Bob Smith', 'Candidate B'),\n",
    "    ('Charlie Johnson', 'Candidate C'),\n",
    "    ('Diana Green', 'Candidate A')\n",
    "]\n",
    "my_blockchain.add_transactions(transactions)"
   ]
  },
  {
   "cell_type": "code",
   "execution_count": 8,
   "id": "f8210f79",
   "metadata": {},
   "outputs": [
    {
     "name": "stdout",
     "output_type": "stream",
     "text": [
      "Mining block...\n",
      "MINED with hash: 000040148ba387439227a672974373eed46a908f242a7124d641cdc2343b2789\n"
     ]
    }
   ],
   "source": [
    "print(\"Mining block...\")\n",
    "my_blockchain.mine_pending_transactions()"
   ]
  },
  {
   "cell_type": "code",
   "execution_count": 9,
   "id": "148bf67b",
   "metadata": {},
   "outputs": [
    {
     "name": "stdout",
     "output_type": "stream",
     "text": [
      "This block hash: 626e5082de065ac180548960225c29bd45cdb63e5bb1e0f395a9099958846aa1\n",
      "MOVING TO THE NEXT -----------------------------------------------------------\n",
      "This block hash: 000040148ba387439227a672974373eed46a908f242a7124d641cdc2343b2789\n",
      "Saved previous hash: 626e5082de065ac180548960225c29bd45cdb63e5bb1e0f395a9099958846aa1\n",
      "Was not tampered with: True\n",
      "MOVING TO THE NEXT -----------------------------------------------------------\n",
      "Is blockchain valid? True\n"
     ]
    }
   ],
   "source": [
    "print(\"Is blockchain valid?\", my_blockchain.is_chain_valid())"
   ]
  },
  {
   "cell_type": "code",
   "execution_count": 10,
   "id": "9b3b605f",
   "metadata": {},
   "outputs": [],
   "source": [
    "my_blockchain.add_transaction('Hank White', 'Candidate A')"
   ]
  },
  {
   "cell_type": "code",
   "execution_count": 11,
   "id": "82094a36",
   "metadata": {},
   "outputs": [],
   "source": [
    "my_blockchain.add_transaction('Anna Blue', 'Candidate B')"
   ]
  },
  {
   "cell_type": "code",
   "execution_count": 12,
   "id": "705677a5",
   "metadata": {},
   "outputs": [
    {
     "name": "stdout",
     "output_type": "stream",
     "text": [
      "Pending transactions before mining: [('Hank White', 'Candidate A'), ('Anna Blue', 'Candidate B')]\n"
     ]
    }
   ],
   "source": [
    "print(\"Pending transactions before mining:\", my_blockchain.pending_transactions)"
   ]
  },
  {
   "cell_type": "code",
   "execution_count": 13,
   "id": "2cd55c8e",
   "metadata": {},
   "outputs": [
    {
     "name": "stdout",
     "output_type": "stream",
     "text": [
      "Mining block...\n",
      "MINED with hash: 00006d86a73bb2d1ead967d531a03b93025a1ec5de6e5c13880a0dc4ffc022a8\n"
     ]
    }
   ],
   "source": [
    "print(\"Mining block...\")\n",
    "my_blockchain.mine_pending_transactions()"
   ]
  },
  {
   "cell_type": "code",
   "execution_count": 14,
   "id": "50c4b2d1",
   "metadata": {},
   "outputs": [
    {
     "name": "stdout",
     "output_type": "stream",
     "text": [
      "Pending transactions after mining: []\n"
     ]
    }
   ],
   "source": [
    "print(\"Pending transactions after mining:\", my_blockchain.pending_transactions)"
   ]
  },
  {
   "cell_type": "code",
   "execution_count": null,
   "id": "700d57ac",
   "metadata": {},
   "outputs": [],
   "source": []
  }
 ],
 "metadata": {
  "kernelspec": {
   "display_name": "Python 3 (ipykernel)",
   "language": "python",
   "name": "python3"
  },
  "language_info": {
   "codemirror_mode": {
    "name": "ipython",
    "version": 3
   },
   "file_extension": ".py",
   "mimetype": "text/x-python",
   "name": "python",
   "nbconvert_exporter": "python",
   "pygments_lexer": "ipython3",
   "version": "3.11.5"
  }
 },
 "nbformat": 4,
 "nbformat_minor": 5
}
